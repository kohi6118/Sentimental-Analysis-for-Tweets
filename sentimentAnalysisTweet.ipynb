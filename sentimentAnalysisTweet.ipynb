{
  "nbformat": 4,
  "nbformat_minor": 0,
  "metadata": {
    "colab": {
      "name": "sentimentAnalysisTweet.ipynb",
      "provenance": [],
      "authorship_tag": "ABX9TyNErd00AJb5ZsPteOkazz6S",
      "include_colab_link": true
    },
    "kernelspec": {
      "name": "python3",
      "display_name": "Python 3"
    },
    "language_info": {
      "name": "python"
    }
  },
  "cells": [
    {
      "cell_type": "markdown",
      "metadata": {
        "id": "view-in-github",
        "colab_type": "text"
      },
      "source": [
        "<a href=\"https://colab.research.google.com/github/kohi6118/Sentimental-Analysis-for-Tweets/blob/main/sentimentAnalysisTweet.ipynb\" target=\"_parent\"><img src=\"https://colab.research.google.com/assets/colab-badge.svg\" alt=\"Open In Colab\"/></a>"
      ]
    },
    {
      "cell_type": "code",
      "execution_count": null,
      "metadata": {
        "id": "Y4OWkeuCSRAP"
      },
      "outputs": [],
      "source": [
        ""
      ]
    }
  ]
}